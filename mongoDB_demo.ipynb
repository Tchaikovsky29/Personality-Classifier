{
 "cells": [
  {
   "cell_type": "code",
   "execution_count": 2,
   "metadata": {},
   "outputs": [
    {
     "data": {
      "text/html": [
       "<div>\n",
       "<style scoped>\n",
       "    .dataframe tbody tr th:only-of-type {\n",
       "        vertical-align: middle;\n",
       "    }\n",
       "\n",
       "    .dataframe tbody tr th {\n",
       "        vertical-align: top;\n",
       "    }\n",
       "\n",
       "    .dataframe thead th {\n",
       "        text-align: right;\n",
       "    }\n",
       "</style>\n",
       "<table border=\"1\" class=\"dataframe\">\n",
       "  <thead>\n",
       "    <tr style=\"text-align: right;\">\n",
       "      <th></th>\n",
       "      <th>_id</th>\n",
       "      <th>Time_spent_Alone</th>\n",
       "      <th>Stage_fear</th>\n",
       "      <th>Social_event_attendance</th>\n",
       "      <th>Going_outside</th>\n",
       "      <th>Drained_after_socializing</th>\n",
       "      <th>Friends_circle_size</th>\n",
       "      <th>Post_frequency</th>\n",
       "      <th>Personality</th>\n",
       "    </tr>\n",
       "  </thead>\n",
       "  <tbody>\n",
       "    <tr>\n",
       "      <th>0</th>\n",
       "      <td>685a7a196b536584247dc2e8</td>\n",
       "      <td>4.0</td>\n",
       "      <td>No</td>\n",
       "      <td>4.0</td>\n",
       "      <td>6.0</td>\n",
       "      <td>No</td>\n",
       "      <td>13.0</td>\n",
       "      <td>5.0</td>\n",
       "      <td>Extrovert</td>\n",
       "    </tr>\n",
       "    <tr>\n",
       "      <th>1</th>\n",
       "      <td>685a7a196b536584247dc2e9</td>\n",
       "      <td>9.0</td>\n",
       "      <td>Yes</td>\n",
       "      <td>0.0</td>\n",
       "      <td>0.0</td>\n",
       "      <td>Yes</td>\n",
       "      <td>0.0</td>\n",
       "      <td>3.0</td>\n",
       "      <td>Introvert</td>\n",
       "    </tr>\n",
       "  </tbody>\n",
       "</table>\n",
       "</div>"
      ],
      "text/plain": [
       "                        _id  Time_spent_Alone Stage_fear  \\\n",
       "0  685a7a196b536584247dc2e8               4.0         No   \n",
       "1  685a7a196b536584247dc2e9               9.0        Yes   \n",
       "\n",
       "   Social_event_attendance  Going_outside Drained_after_socializing  \\\n",
       "0                      4.0            6.0                        No   \n",
       "1                      0.0            0.0                       Yes   \n",
       "\n",
       "   Friends_circle_size  Post_frequency Personality  \n",
       "0                 13.0             5.0   Extrovert  \n",
       "1                  0.0             3.0   Introvert  "
      ]
     },
     "execution_count": 2,
     "metadata": {},
     "output_type": "execute_result"
    }
   ],
   "source": [
    "import kagglehub\n",
    "import pandas as pd\n",
    "import os\n",
    "from dotenv import load_dotenv\n",
    "import pymongo \n",
    "from pymongo import MongoClient\n",
    "\n",
    "load_dotenv()\n",
    "\n",
    "path = kagglehub.dataset_download(\"rakeshkapilavai/extrovert-vs-introvert-behavior-data\")\n",
    "\n",
    "data = pd.read_csv(path + \"/personality_dataset.csv\")\n",
    "\n",
    "data = data.to_dict(orient='records')\n",
    "\n",
    "client = pymongo.MongoClient(os.getenv(\"CONNECTION_URL\"))\n",
    "data_base = client[os.getenv(\"DB_NAME\")]\n",
    "collection = data_base[os.getenv(\"COLLECTION_NAME\")]\n",
    "\n",
    "# rec = collection.insert_many(data)\n",
    "\n",
    "df = pd.DataFrame(list(collection.find()))\n",
    "df.head(2)"
   ]
  },
  {
   "cell_type": "code",
   "execution_count": 4,
   "metadata": {},
   "outputs": [
    {
     "name": "stdout",
     "output_type": "stream",
     "text": [
      "<class 'pandas.core.frame.DataFrame'>\n",
      "RangeIndex: 2900 entries, 0 to 2899\n",
      "Data columns (total 9 columns):\n",
      " #   Column                     Non-Null Count  Dtype  \n",
      "---  ------                     --------------  -----  \n",
      " 0   _id                        2900 non-null   object \n",
      " 1   Time_spent_Alone           2837 non-null   float64\n",
      " 2   Stage_fear                 2827 non-null   object \n",
      " 3   Social_event_attendance    2838 non-null   float64\n",
      " 4   Going_outside              2834 non-null   float64\n",
      " 5   Drained_after_socializing  2848 non-null   object \n",
      " 6   Friends_circle_size        2823 non-null   float64\n",
      " 7   Post_frequency             2835 non-null   float64\n",
      " 8   Personality                2900 non-null   object \n",
      "dtypes: float64(5), object(4)\n",
      "memory usage: 204.0+ KB\n"
     ]
    }
   ],
   "source": [
    "df.info()"
   ]
  }
 ],
 "metadata": {
  "kernelspec": {
   "display_name": "pc",
   "language": "python",
   "name": "python3"
  },
  "language_info": {
   "codemirror_mode": {
    "name": "ipython",
    "version": 3
   },
   "file_extension": ".py",
   "mimetype": "text/x-python",
   "name": "python",
   "nbconvert_exporter": "python",
   "pygments_lexer": "ipython3",
   "version": "3.10.18"
  }
 },
 "nbformat": 4,
 "nbformat_minor": 2
}
